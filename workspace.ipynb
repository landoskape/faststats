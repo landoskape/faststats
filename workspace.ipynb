{
 "cells": [
  {
   "cell_type": "code",
   "execution_count": 6,
   "metadata": {},
   "outputs": [
    {
     "name": "stdout",
     "output_type": "stream",
     "text": [
      "True\n",
      "357 ms ± 46.1 ms per loop (mean ± std. dev. of 7 runs, 1 loop each)\n",
      "57.5 ms ± 3.76 ms per loop (mean ± std. dev. of 7 runs, 10 loops each)\n"
     ]
    }
   ],
   "source": [
    "import numpy as np\n",
    "import numba as nb\n",
    "from faststats2.numba import get_mean\n",
    "\n",
    "data = np.random.randn(10000, 100, 100)\n",
    "\n",
    "axis = 0\n",
    "nout = get_mean(data, axis=axis)\n",
    "out = np.mean(data, axis=axis)\n",
    "print(np.allclose(nout, out))\n",
    "\n",
    "\n",
    "%timeit xx = get_mean(data, axis=axis)\n",
    "%timeit yy = np.mean(data, axis=axis)\n"
   ]
  },
  {
   "cell_type": "code",
   "execution_count": 1,
   "metadata": {},
   "outputs": [
    {
     "ename": "TypingError",
     "evalue": "Failed in nopython mode pipeline (step: nopython frontend)\nNo implementation of function Function(<function mean at 0x10ece18a0>) found for signature:\n \n >>> mean(array(float64, 3d, C), axis=int64)\n \nThere are 2 candidate implementations:\n  - Of which 2 did not match due to:\n  Overload in function 'array_mean': File: numba/np/old_arraymath.py: Line 424.\n    With argument(s): '(array(float64, 3d, C), axis=int64)':\n   Rejected as the implementation raised a specific error:\n     TypingError: got an unexpected keyword argument 'axis'\n  raised from /usr/local/Caskroom/miniforge/base/envs/faststats/lib/python3.11/site-packages/numba/core/typing/templates.py:791\n\nDuring: resolving callee type: Function(<function mean at 0x10ece18a0>)\nDuring: typing of call at /var/folders/7d/qc682nsj13d_bz11bztzd5hm0000gn/T/ipykernel_17362/1357646279.py (11)\n\n\nFile \"../../../../../var/folders/7d/qc682nsj13d_bz11bztzd5hm0000gn/T/ipykernel_17362/1357646279.py\", line 11:\n<source missing, REPL/exec in use?>\n\nDuring: Pass nopython_type_inference",
     "output_type": "error",
     "traceback": [
      "\u001b[0;31m---------------------------------------------------------------------------\u001b[0m",
      "\u001b[0;31mTypingError\u001b[0m                               Traceback (most recent call last)",
      "Cell \u001b[0;32mIn[1], line 13\u001b[0m\n\u001b[1;32m      9\u001b[0m \u001b[38;5;129m@nb\u001b[39m\u001b[38;5;241m.\u001b[39mnjit(parallel\u001b[38;5;241m=\u001b[39m\u001b[38;5;28;01mTrue\u001b[39;00m, fastmath\u001b[38;5;241m=\u001b[39m\u001b[38;5;28;01mTrue\u001b[39;00m)\n\u001b[1;32m     10\u001b[0m \u001b[38;5;28;01mdef\u001b[39;00m\u001b[38;5;250m \u001b[39m\u001b[38;5;21mnumba_mean\u001b[39m(data, axis):\n\u001b[1;32m     11\u001b[0m     \u001b[38;5;28;01mreturn\u001b[39;00m np\u001b[38;5;241m.\u001b[39mmean(data, axis\u001b[38;5;241m=\u001b[39maxis)\n\u001b[0;32m---> 13\u001b[0m x \u001b[38;5;241m=\u001b[39m \u001b[43mnumba_mean\u001b[49m\u001b[43m(\u001b[49m\u001b[43mdata\u001b[49m\u001b[43m,\u001b[49m\u001b[43m \u001b[49m\u001b[43maxis\u001b[49m\u001b[38;5;241;43m=\u001b[39;49m\u001b[43maxis\u001b[49m\u001b[43m)\u001b[49m\n\u001b[1;32m     15\u001b[0m get_ipython()\u001b[38;5;241m.\u001b[39mrun_line_magic(\u001b[38;5;124m'\u001b[39m\u001b[38;5;124mtimeit\u001b[39m\u001b[38;5;124m'\u001b[39m, \u001b[38;5;124m'\u001b[39m\u001b[38;5;124mxx = numba_mean(data, axis=axis)\u001b[39m\u001b[38;5;124m'\u001b[39m)\n\u001b[1;32m     16\u001b[0m get_ipython()\u001b[38;5;241m.\u001b[39mrun_line_magic(\u001b[38;5;124m'\u001b[39m\u001b[38;5;124mtimeit\u001b[39m\u001b[38;5;124m'\u001b[39m, \u001b[38;5;124m'\u001b[39m\u001b[38;5;124myy = np.mean(data, axis=axis)\u001b[39m\u001b[38;5;124m'\u001b[39m)\n",
      "File \u001b[0;32m/usr/local/Caskroom/miniforge/base/envs/faststats/lib/python3.11/site-packages/numba/core/dispatcher.py:424\u001b[0m, in \u001b[0;36m_DispatcherBase._compile_for_args\u001b[0;34m(self, *args, **kws)\u001b[0m\n\u001b[1;32m    420\u001b[0m         msg \u001b[38;5;241m=\u001b[39m (\u001b[38;5;124mf\u001b[39m\u001b[38;5;124m\"\u001b[39m\u001b[38;5;132;01m{\u001b[39;00m\u001b[38;5;28mstr\u001b[39m(e)\u001b[38;5;241m.\u001b[39mrstrip()\u001b[38;5;132;01m}\u001b[39;00m\u001b[38;5;124m \u001b[39m\u001b[38;5;130;01m\\n\u001b[39;00m\u001b[38;5;130;01m\\n\u001b[39;00m\u001b[38;5;124mThis error may have been caused \u001b[39m\u001b[38;5;124m\"\u001b[39m\n\u001b[1;32m    421\u001b[0m                \u001b[38;5;124mf\u001b[39m\u001b[38;5;124m\"\u001b[39m\u001b[38;5;124mby the following argument(s):\u001b[39m\u001b[38;5;130;01m\\n\u001b[39;00m\u001b[38;5;132;01m{\u001b[39;00margs_str\u001b[38;5;132;01m}\u001b[39;00m\u001b[38;5;130;01m\\n\u001b[39;00m\u001b[38;5;124m\"\u001b[39m)\n\u001b[1;32m    422\u001b[0m         e\u001b[38;5;241m.\u001b[39mpatch_message(msg)\n\u001b[0;32m--> 424\u001b[0m     \u001b[43merror_rewrite\u001b[49m\u001b[43m(\u001b[49m\u001b[43me\u001b[49m\u001b[43m,\u001b[49m\u001b[43m \u001b[49m\u001b[38;5;124;43m'\u001b[39;49m\u001b[38;5;124;43mtyping\u001b[39;49m\u001b[38;5;124;43m'\u001b[39;49m\u001b[43m)\u001b[49m\n\u001b[1;32m    425\u001b[0m \u001b[38;5;28;01mexcept\u001b[39;00m errors\u001b[38;5;241m.\u001b[39mUnsupportedError \u001b[38;5;28;01mas\u001b[39;00m e:\n\u001b[1;32m    426\u001b[0m     \u001b[38;5;66;03m# Something unsupported is present in the user code, add help info\u001b[39;00m\n\u001b[1;32m    427\u001b[0m     error_rewrite(e, \u001b[38;5;124m'\u001b[39m\u001b[38;5;124munsupported_error\u001b[39m\u001b[38;5;124m'\u001b[39m)\n",
      "File \u001b[0;32m/usr/local/Caskroom/miniforge/base/envs/faststats/lib/python3.11/site-packages/numba/core/dispatcher.py:365\u001b[0m, in \u001b[0;36m_DispatcherBase._compile_for_args.<locals>.error_rewrite\u001b[0;34m(e, issue_type)\u001b[0m\n\u001b[1;32m    363\u001b[0m     \u001b[38;5;28;01mraise\u001b[39;00m e\n\u001b[1;32m    364\u001b[0m \u001b[38;5;28;01melse\u001b[39;00m:\n\u001b[0;32m--> 365\u001b[0m     \u001b[38;5;28;01mraise\u001b[39;00m e\u001b[38;5;241m.\u001b[39mwith_traceback(\u001b[38;5;28;01mNone\u001b[39;00m)\n",
      "\u001b[0;31mTypingError\u001b[0m: Failed in nopython mode pipeline (step: nopython frontend)\nNo implementation of function Function(<function mean at 0x10ece18a0>) found for signature:\n \n >>> mean(array(float64, 3d, C), axis=int64)\n \nThere are 2 candidate implementations:\n  - Of which 2 did not match due to:\n  Overload in function 'array_mean': File: numba/np/old_arraymath.py: Line 424.\n    With argument(s): '(array(float64, 3d, C), axis=int64)':\n   Rejected as the implementation raised a specific error:\n     TypingError: got an unexpected keyword argument 'axis'\n  raised from /usr/local/Caskroom/miniforge/base/envs/faststats/lib/python3.11/site-packages/numba/core/typing/templates.py:791\n\nDuring: resolving callee type: Function(<function mean at 0x10ece18a0>)\nDuring: typing of call at /var/folders/7d/qc682nsj13d_bz11bztzd5hm0000gn/T/ipykernel_17362/1357646279.py (11)\n\n\nFile \"../../../../../var/folders/7d/qc682nsj13d_bz11bztzd5hm0000gn/T/ipykernel_17362/1357646279.py\", line 11:\n<source missing, REPL/exec in use?>\n\nDuring: Pass nopython_type_inference"
     ]
    }
   ],
   "source": [
    "import numpy as np\n",
    "import numba as nb\n",
    "from faststats2.numba import get_mean\n",
    "\n",
    "data = np.random.randn(10000, 100, 100)\n",
    "\n",
    "axis = 0\n",
    "\n",
    "@nb.njit(parallel=True, fastmath=True)\n",
    "def numba_mean(data, axis):\n",
    "    return np.mean(data, axis=axis)\n",
    "\n",
    "x = numba_mean(data, axis=axis)\n",
    "\n",
    "%timeit xx = numba_mean(data, axis=axis)\n",
    "%timeit yy = np.mean(data, axis=axis)"
   ]
  },
  {
   "cell_type": "code",
   "execution_count": null,
   "metadata": {},
   "outputs": [],
   "source": []
  }
 ],
 "metadata": {
  "kernelspec": {
   "display_name": "faststats",
   "language": "python",
   "name": "python3"
  },
  "language_info": {
   "codemirror_mode": {
    "name": "ipython",
    "version": 3
   },
   "file_extension": ".py",
   "mimetype": "text/x-python",
   "name": "python",
   "nbconvert_exporter": "python",
   "pygments_lexer": "ipython3",
   "version": "3.11.11"
  }
 },
 "nbformat": 4,
 "nbformat_minor": 2
}
